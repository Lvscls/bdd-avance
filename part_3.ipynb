{
 "cells": [
  {
   "cell_type": "code",
   "execution_count": 1,
   "metadata": {},
   "outputs": [],
   "source": [
    "import os\n",
    "from dotenv import load_dotenv\n",
    "from faker import Faker\n",
    "import random\n",
    "import datetime\n",
    "\n",
    "fake = Faker()\n",
    "# Le .env est aussi à la racine\n",
    "load_dotenv(\".env\")\n",
    "\n",
    "USER_PSQL = os.environ.get(\"POSTGRESQL_LOCAL_USER\")\n",
    "PASSWORD_PSQL = os.environ.get(\"POSTGRESQL_LOCAL_PASSWORD\")\n",
    "\n",
    "import psycopg2\n",
    "conn = psycopg2.connect(dbname=\"app_auth\", user=USER_PSQL, password=PASSWORD_PSQL, host=\"localhost\", port=\"5432\")"
   ]
  },
  {
   "cell_type": "code",
   "execution_count": 2,
   "metadata": {},
   "outputs": [],
   "source": [
    "cur = conn.cursor()\n",
    "\n",
    "cur.execute(\"\"\"\n",
    "DROP TABLE IF EXISTS user_for_comparison;            \n",
    "            \"\"\")\n",
    "cur.execute(\"\"\"\n",
    "CREATE TABLE user_for_comparison (\n",
    "    user_id SERIAL PRIMARY KEY,\n",
    "    firstname VARCHAR(50),\n",
    "    lastname VARCHAR(50),\n",
    "    email VARCHAR(100),\n",
    "    username VARCHAR(50),\n",
    "    password VARCHAR(100),\n",
    "    created_at TIMESTAMP DEFAULT CURRENT_TIMESTAMP\n",
    ");\n",
    "\"\"\")\n",
    "cur.execute(\"\"\"\n",
    "ALTER TABLE user_for_comparison\n",
    "ADD CONSTRAINT username_length CHECK (LENGTH(username) >= 8);\n",
    "\n",
    "ALTER TABLE user_for_comparison\n",
    "ADD CONSTRAINT email_unique UNIQUE(email);\n",
    "\n",
    "ALTER TABLE user_for_comparison\n",
    "ADD CONSTRAINT password_length CHECK (LENGTH(password) >= 8);\n",
    "\"\"\")\n"
   ]
  },
  {
   "cell_type": "code",
   "execution_count": 3,
   "metadata": {},
   "outputs": [],
   "source": [
    "for _ in range(100000):\n",
    "    firstname = fake.first_name()\n",
    "    lastname = fake.last_name()\n",
    "    email = fake.unique.email()\n",
    "    username = fake.user_name() + str(random.randint(100, 999))  \n",
    "    password = fake.password(length=random.randint(8, 20))\n",
    "    created_at = fake.date_time_between_dates(datetime_start=datetime.datetime(2023, 1, 1),\n",
    "                                              datetime_end=datetime.datetime(2023, 12, 31))\n",
    "    while len(username) < 8:\n",
    "            username = fake.user_name() + str(random.randint(100, 999))\n",
    "    cur.execute(\"\"\"\n",
    "    INSERT INTO user_for_comparison (firstname, lastname, email, username, password, created_at)\n",
    "    VALUES (%s, %s, %s, %s, %s, %s);\n",
    "    \"\"\", (firstname, lastname, email, username, password, created_at))\n",
    "\n",
    "\n",
    "conn.commit()\n",
    "\n"
   ]
  },
  {
   "cell_type": "code",
   "execution_count": 4,
   "metadata": {},
   "outputs": [
    {
     "name": "stdout",
     "output_type": "stream",
     "text": [
      "Temps d'exécution pour elizabethjohnson950:\n",
      "7.17 ms ± 0 ns per loop (mean ± std. dev. of 1 run, 100 loops each)\n",
      "Temps d'exécution pour mrobinson543:\n",
      "7.67 ms ± 0 ns per loop (mean ± std. dev. of 1 run, 100 loops each)\n",
      "Temps d'exécution pour lcantu498:\n",
      "8.88 ms ± 0 ns per loop (mean ± std. dev. of 1 run, 100 loops each)\n",
      "Temps d'exécution pour pamelawilkins954:\n",
      "8.48 ms ± 0 ns per loop (mean ± std. dev. of 1 run, 100 loops each)\n"
     ]
    }
   ],
   "source": [
    "usernames_to_query = [\"elizabethjohnson950\", \"mrobinson543\", \"lcantu498\",\"pamelawilkins954\"] \n",
    "\n",
    "\n",
    "for username in usernames_to_query:\n",
    "    query = f\"SELECT * FROM user_for_comparison WHERE username = '{username}'\"\n",
    "    \n",
    "    print(f\"Temps d'exécution pour {username}:\")\n",
    "    %timeit -r 1 -o cur.execute(query) \n",
    "\n",
    "\n",
    "    results = cur.fetchall()\n"
   ]
  },
  {
   "cell_type": "code",
   "execution_count": 5,
   "metadata": {},
   "outputs": [
    {
     "name": "stdout",
     "output_type": "stream",
     "text": [
      "Temps d'exécution pour elizabethjohnson950:\n",
      "56.4 µs ± 0 ns per loop (mean ± std. dev. of 1 run, 10,000 loops each)\n",
      "Temps d'exécution pour mrobinson543:\n",
      "54 µs ± 0 ns per loop (mean ± std. dev. of 1 run, 10,000 loops each)\n",
      "Temps d'exécution pour lcantu498:\n",
      "54.8 µs ± 0 ns per loop (mean ± std. dev. of 1 run, 10,000 loops each)\n",
      "Temps d'exécution pour pamelawilkins954:\n",
      "54.4 µs ± 0 ns per loop (mean ± std. dev. of 1 run, 10,000 loops each)\n"
     ]
    }
   ],
   "source": [
    "\n",
    "cur.execute(\"CREATE INDEX idx_username ON user_for_comparison (username);\")\n",
    "\n",
    "usernames_to_query = [\"elizabethjohnson950\", \"mrobinson543\", \"lcantu498\",\"pamelawilkins954\"] \n",
    "\n",
    "\n",
    "for username in usernames_to_query:\n",
    "    query = f\"SELECT * FROM user_for_comparison WHERE username = '{username}'\"\n",
    "    \n",
    "    print(f\"Temps d'exécution pour {username}:\")\n",
    "    %timeit -r 1 -o cur.execute(query) \n",
    "\n",
    "\n",
    "    results = cur.fetchall()\n",
    "\n",
    "cur.close()\n",
    "conn.close()"
   ]
  }
 ],
 "metadata": {
  "kernelspec": {
   "display_name": "env",
   "language": "python",
   "name": "python3"
  },
  "language_info": {
   "codemirror_mode": {
    "name": "ipython",
    "version": 3
   },
   "file_extension": ".py",
   "mimetype": "text/x-python",
   "name": "python",
   "nbconvert_exporter": "python",
   "pygments_lexer": "ipython3",
   "version": "3.11.2"
  },
  "orig_nbformat": 4
 },
 "nbformat": 4,
 "nbformat_minor": 2
}
