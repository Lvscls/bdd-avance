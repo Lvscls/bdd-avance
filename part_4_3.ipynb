{
 "cells": [
  {
   "cell_type": "code",
   "execution_count": 29,
   "metadata": {},
   "outputs": [],
   "source": [
    "import os\n",
    "from dotenv import load_dotenv\n",
    "# Le .env est aussi à la racine\n",
    "load_dotenv(\".env\")\n",
    "\n",
    "USER_PSQL = os.environ.get(\"POSTGRESQL_LOCAL_USER\")\n",
    "PASSWORD_PSQL = os.environ.get(\"POSTGRESQL_LOCAL_PASSWORD\")\n",
    "\n",
    "import psycopg2\n",
    "conn = psycopg2.connect(dbname=\"app_auth\", user=USER_PSQL, password=PASSWORD_PSQL, host=\"localhost\", port=\"5432\")"
   ]
  },
  {
   "cell_type": "code",
   "execution_count": 30,
   "metadata": {},
   "outputs": [],
   "source": [
    "def update_username_from_app(user_id, new_username):\n",
    "    with conn.cursor() as cur:\n",
    "        cur.execute(\"\"\"\n",
    "            UPDATE \"user\"\n",
    "            SET username = %s\n",
    "            WHERE user_id = %s;\n",
    "        \"\"\", (new_username, user_id))\n",
    "        conn.commit()\n",
    "  \n"
   ]
  },
  {
   "cell_type": "code",
   "execution_count": 31,
   "metadata": {},
   "outputs": [],
   "source": [
    "cur = conn.cursor()\n",
    "cur.execute(\"\"\"\n",
    "    CREATE TABLE IF NOT EXISTS username_history_from_app (\n",
    "    username_history_id SERIAL PRIMARY KEY,\n",
    "    user_id INTEGER REFERENCES \"user\"(user_id),\n",
    "    username_new VARCHAR(255),\n",
    "    timestamp TIMESTAMP DEFAULT CURRENT_TIMESTAMP\n",
    "        );\n",
    "    \"\"\")\n",
    "conn.commit()\n",
    "\n"
   ]
  },
  {
   "cell_type": "code",
   "execution_count": 32,
   "metadata": {},
   "outputs": [],
   "source": [
    "def update_username_and_history_from_app(user_id, new_username):\n",
    "    with conn.cursor() as cur:\n",
    "        # Mise à jour du username\n",
    "        cur.execute(\"\"\"\n",
    "            UPDATE \"user\"\n",
    "            SET username = %s\n",
    "            WHERE user_id = %s\n",
    "            RETURNING user_id, username;\n",
    "        \"\"\", (new_username, user_id))\n",
    "\n",
    "        updated_user = cur.fetchone()\n",
    "\n",
    "        if updated_user:\n",
    "            cur.execute(\"\"\"\n",
    "                INSERT INTO username_history_from_app (user_id, username_new)\n",
    "                VALUES (%s, %s);\n",
    "            \"\"\", (updated_user[0], updated_user[1]))\n",
    "\n",
    "        conn.commit()\n"
   ]
  },
  {
   "cell_type": "code",
   "execution_count": 33,
   "metadata": {},
   "outputs": [
    {
     "name": "stdout",
     "output_type": "stream",
     "text": [
      "\n",
      "Cas avec TRIGGER - 100 éditions:\n",
      "119 ms ± 0 ns per loop (mean ± std. dev. of 1 run, 1 loop each)\n",
      "\n",
      "Cas avec TRIGGER - 1000 éditions:\n",
      "1.11 s ± 0 ns per loop (mean ± std. dev. of 1 run, 1 loop each)\n",
      "\n",
      "Cas avec TRIGGER - 10000 éditions:\n",
      "10.6 s ± 0 ns per loop (mean ± std. dev. of 1 run, 1 loop each)\n",
      "\n",
      "Cas avec code Python qui enregistre l'historique - 100 éditions:\n",
      "121 ms ± 0 ns per loop (mean ± std. dev. of 1 run, 1 loop each)\n",
      "\n",
      "Cas avec code Python qui enregistre l'historique - 1000 éditions:\n",
      "1.14 s ± 0 ns per loop (mean ± std. dev. of 1 run, 1 loop each)\n",
      "\n",
      "Cas avec code Python qui enregistre l'historique - 10000 éditions:\n",
      "11.6 s ± 0 ns per loop (mean ± std. dev. of 1 run, 1 loop each)\n"
     ]
    }
   ],
   "source": [
    "for num_edits in [100, 1000, 10000]:\n",
    "    print(f\"\\nCas avec TRIGGER - {num_edits} éditions:\")\n",
    "    %timeit -n 1 -r 1 [update_username_from_app(random.randint(1, 100), f\"new_username_{i}\") for i in range(num_edits)]\n",
    "for num_edits in [100, 1000, 10000]:\n",
    "    print(f\"\\nCas avec code Python qui enregistre l'historique - {num_edits} éditions:\")\n",
    "    %timeit -n 1 -r 1 [update_username_and_history_from_app(random.randint(1, 100), f\"new_username_{i}\") for i in range(num_edits)]\n",
    "conn.close()"
   ]
  }
 ],
 "metadata": {
  "kernelspec": {
   "display_name": "env",
   "language": "python",
   "name": "python3"
  },
  "language_info": {
   "codemirror_mode": {
    "name": "ipython",
    "version": 3
   },
   "file_extension": ".py",
   "mimetype": "text/x-python",
   "name": "python",
   "nbconvert_exporter": "python",
   "pygments_lexer": "ipython3",
   "version": "3.11.2"
  },
  "orig_nbformat": 4
 },
 "nbformat": 4,
 "nbformat_minor": 2
}
