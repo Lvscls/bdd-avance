{
 "cells": [
  {
   "cell_type": "code",
   "execution_count": null,
   "metadata": {
    "vscode": {
     "languageId": "sql"
    }
   },
   "outputs": [],
   "source": [
    "CREATE TABLE IF NOT EXISTS tp (\n",
    "    tp_id INT PRIMARY KEY NOT NULL,\n",
    "    tp_name VARCHAR(255)\n",
    ");\n",
    "\n",
    "CREATE TABLE IF NOT EXISTS notebooks (\n",
    "    notebook_id INT PRIMARY KEY NOT NULL,\n",
    "    notebook_name VARCHAR(255),\n",
    "    tp_id INT,\n",
    "    FOREIGN KEY (tp_id) REFERENCES tp(tp_id)\n",
    ");\n",
    "\n",
    "INSERT INTO tp VALUES (1, 'tp1');\n",
    "INSERT INTO tp VALUES (2, 'tp2');\n",
    "INSERT INTO notebooks VALUES (1, 'notebook1', 1);\n",
    "INSERT INTO notebooks VALUES (2, 'notebook2', 1);\n",
    "INSERT INTO notebooks VALUES (3, 'notebook3', 2);"
   ]
  },
  {
   "cell_type": "code",
   "execution_count": null,
   "metadata": {
    "vscode": {
     "languageId": "sql"
    }
   },
   "outputs": [],
   "source": [
    "CREATE VIEW tp_and_notebook AS \n",
    "SELECT tp.tp_name, notebooks.notebook_id, notebooks.notebook_name\n",
    "FROM tp\n",
    "JOIN notebooks ON tp.tp_id = notebooks.tp_id;\n"
   ]
  }
 ],
 "metadata": {
  "language_info": {
   "name": "python"
  },
  "orig_nbformat": 4
 },
 "nbformat": 4,
 "nbformat_minor": 2
}
